{
  "cells": [
    {
      "cell_type": "code",
      "execution_count": 1,
      "id": "cc7f515c-4f65-45dd-965b-942ae2a8aed7",
      "metadata": {
        "trusted": true
      },
      "outputs": [],
      "source": [
        "import pandas as pd\n",
        "import numpy as np\n",
        "import seaborn as sns\n",
        "import matplotlib.pyplot as plt\n",
        "import joblib"
      ]
    },
    {
      "cell_type": "code",
      "execution_count": 2,
      "id": "921e4fad-8deb-4aaf-a5e6-f6fcbadfaa50",
      "metadata": {
        "trusted": true
      },
      "outputs": [],
      "source": [
        "from sklearn.model_selection import train_test_split\n",
        "from sklearn.preprocessing import LabelEncoder\n",
        "from sklearn.metrics import classification_report, roc_auc_score, confusion_matrix, roc_curve, auc\n",
        "\n",
        "from sklearn.linear_model import LogisticRegression\n",
        "from sklearn.ensemble import RandomForestClassifier\n",
        "import lightgbm as lgb\n",
        "import xgboost as xgb\n"
      ]
    },
    {
      "cell_type": "code",
      "execution_count": 3,
      "id": "09e4703a-3f96-4a2a-91ca-168724de003e",
      "metadata": {
        "trusted": true
      },
      "outputs": [],
      "source": [
        "from imblearn.over_sampling import SMOTE\n",
        "from geopy.distance import geodesic\n",
        "\n",
        "# Load and preprocess data\n",
        "df = pd.read_csv(\"C:\\\\Users\\\\bashp\\\\Downloads\\\\my_project\\\\myenv\\\\dataset.csv\")\n",
        "df['time'] = pd.to_datetime(df['time'])\n",
        "df['hour'] = df['time'].dt.hour\n",
        "df['day'] = df['time'].dt.day\n",
        "df['month'] = df['time'].dt.month"
      ]
    },
    {
      "cell_type": "code",
      "execution_count": 4,
      "id": "c44a50cc-48a4-412e-9efc-884bdaae4076",
      "metadata": {
        "trusted": true
      },
      "outputs": [],
      "source": [
        "drop_columns = ['Unnamed: 0','time','first','last','street','city','state','zip','dob','job','trans_num']\n",
        "df.drop(columns=[col for col in drop_columns if col in df.columns], inplace=True)\n"
      ]
    },
    {
      "cell_type": "code",
      "execution_count": 5,
      "id": "ab795023-93ed-43bb-8e31-1a7150dc8736",
      "metadata": {
        "trusted": true
      },
      "outputs": [],
      "source": [
        "cat_col = ['merchant','category','gender']\n",
        "encoders = {}\n",
        "for col in cat_col:\n",
        "    encoders[col] = LabelEncoder()\n",
        "    df[col] = encoders[col].fit_transform(df[col])"
      ]
    },
    {
      "cell_type": "code",
      "execution_count": 6,
      "id": "d9b29dfe-09cc-4752-813d-2acf19fecee2",
      "metadata": {
        "trusted": true
      },
      "outputs": [],
      "source": [
        "def haversine(lat1,lon1,lat2,lon2):\n",
        "    return np.array([geodesic((a,b),(c,d)).km for a,b,c,d in zip(lat1,lon1,lat2,lon2)])\n",
        "df['distance'] = haversine(df['lat'], df['long'], df['merch_lat'], df['merch_long'])"
      ]
    },
    {
      "cell_type": "code",
      "execution_count": 7,
      "id": "ed0084f4-e569-488c-b5f6-16b530ffc3d7",
      "metadata": {
        "trusted": true
      },
      "outputs": [],
      "source": [
        "features = ['merchant','category','amt','cc_num','hour','day','month','gender','distance']\n",
        "x = df[features]\n",
        "y = df['class']"
      ]
    },
    {
      "cell_type": "code",
      "execution_count": 8,
      "id": "55948882-ea82-43aa-91ff-7955aed7aef2",
      "metadata": {
        "trusted": true
      },
      "outputs": [
        {
          "data": {
            "image/png": "[encoded data removed]",
            "text/plain": [
              "<Figure size 640x480 with 1 Axes>"
            ]
          },
          "metadata": {},
          "output_type": "display_data"
        }
      ],
      "source": [
        "sns.countplot(x='class', data=df)\n",
        "plt.title(\"Class Distribution Before SMOTE\")\n",
        "plt.show()\n"
      ]
    },
    {
      "cell_type": "code",
      "execution_count": 9,
      "id": "827b408f-aa62-4890-93a9-3ae6f5a1cfb7",
      "metadata": {
        "trusted": true
      },
      "outputs": [
        {
          "data": {
            "image/png": "[encoded data removed]",
            "text/plain": [
              "<Figure size 640x480 with 1 Axes>"
            ]
          },
          "metadata": {},
          "output_type": "display_data"
        }
      ],
      "source": [
        "smote = SMOTE(random_state=42)\n",
        "x_resample, y_resample = smote.fit_resample(x, y)\n",
        "\n",
        "sns.countplot(x=y_resample)\n",
        "plt.title(\"Class Distribution After SMOTE\")\n",
        "plt.show()"
      ]
    },
    {
      "cell_type": "code",
      "execution_count": 10,
      "id": "b6e6c5a1-2a27-4af3-a7d1-c559210d330b",
      "metadata": {
        "trusted": true
      },
      "outputs": [],
      "source": [
        "x_train, x_test, y_train, y_test = train_test_split(x_resample, y_resample, test_size=0.2, random_state=42)"
      ]
    },
    {
      "cell_type": "code",
      "execution_count": 11,
      "id": "b59fc09b-a909-4549-b558-c421df2a6ed8",
      "metadata": {
        "trusted": true
      },
      "outputs": [],
      "source": [
        "models = {\n",
        "    \"Logistic Regression\": LogisticRegression(max_iter=1000, class_weight='balanced',n_jobs=-1),\n",
        "    \"Random Forest\": RandomForestClassifier(n_estimators=100, class_weight='balanced', random_state=42,n_jobs=-1),\n",
        "    \"XGBoost\": xgb.XGBClassifier(use_label_encoder=False, eval_metric='logloss',n_jobs=-1),\n",
        "    \"LightGBM\": lgb.LGBMClassifier(boosting_type='gbdt', objective='binary', is_unbalance=True,\n",
        "                                   learning_rate=0.05, num_leaves=31, max_depth=1, n_estimators=200,n_jobs=-1)\n",
        "}"
      ]
    },
    {
      "cell_type": "code",
      "execution_count": 12,
      "id": "57f4a8aa-28dc-4f5f-b679-b91b17ca3857",
      "metadata": {
        "trusted": true
      },
      "outputs": [
        {
          "name": "stdout",
          "output_type": "stream",
          "text": [
            "\n",
            "=== Logistic Regression ===\n"
          ]
        },
        {
          "name": "stderr",
          "output_type": "stream",
          "text": [
            "c:\\Users\\bashp\\AppData\\Local\\Programs\\Python\\Python313\\Lib\\site-packages\\sklearn\\metrics\\_classification.py:1565: UndefinedMetricWarning: Precision is ill-defined and being set to 0.0 in labels with no predicted samples. Use `zero_division` parameter to control this behavior.\n",
            "  _warn_prf(average, modifier, f\"{metric.capitalize()} is\", len(result))\n",
            "c:\\Users\\bashp\\AppData\\Local\\Programs\\Python\\Python313\\Lib\\site-packages\\sklearn\\metrics\\_classification.py:1565: UndefinedMetricWarning: Precision is ill-defined and being set to 0.0 in labels with no predicted samples. Use `zero_division` parameter to control this behavior.\n",
            "  _warn_prf(average, modifier, f\"{metric.capitalize()} is\", len(result))\n",
            "c:\\Users\\bashp\\AppData\\Local\\Programs\\Python\\Python313\\Lib\\site-packages\\sklearn\\metrics\\_classification.py:1565: UndefinedMetricWarning: Precision is ill-defined and being set to 0.0 in labels with no predicted samples. Use `zero_division` parameter to control this behavior.\n",
            "  _warn_prf(average, modifier, f\"{metric.capitalize()} is\", len(result))\n"
          ]
        },
        {
          "name": "stdout",
          "output_type": "stream",
          "text": [
            "Classification Report:\n",
            "               precision    recall  f1-score   support\n",
            "\n",
            "           0       0.50      1.00      0.67    257186\n",
            "           1       0.00      0.00      0.00    258482\n",
            "\n",
            "    accuracy                           0.50    515668\n",
            "   macro avg       0.25      0.50      0.33    515668\n",
            "weighted avg       0.25      0.50      0.33    515668\n",
            "\n",
            "ROC AUC Score:  0.4997562041760125\n",
            "\n",
            "=== Random Forest ===\n",
            "Classification Report:\n",
            "               precision    recall  f1-score   support\n",
            "\n",
            "           0       1.00      0.99      0.99    257186\n",
            "           1       0.99      1.00      0.99    258482\n",
            "\n",
            "    accuracy                           0.99    515668\n",
            "   macro avg       0.99      0.99      0.99    515668\n",
            "weighted avg       0.99      0.99      0.99    515668\n",
            "\n",
            "ROC AUC Score:  0.9996900917900141\n",
            "\n",
            "=== XGBoost ===\n"
          ]
        },
        {
          "name": "stderr",
          "output_type": "stream",
          "text": [
            "c:\\Users\\bashp\\AppData\\Local\\Programs\\Python\\Python313\\Lib\\site-packages\\xgboost\\training.py:183: UserWarning: [11:15:39] WARNING: C:\\actions-runner\\_work\\xgboost\\xgboost\\src\\learner.cc:738: \n",
            "Parameters: { \"use_label_encoder\" } are not used.\n",
            "\n",
            "  bst.update(dtrain, iteration=i, fobj=obj)\n"
          ]
        },
        {
          "name": "stdout",
          "output_type": "stream",
          "text": [
            "Classification Report:\n",
            "               precision    recall  f1-score   support\n",
            "\n",
            "           0       0.96      0.98      0.97    257186\n",
            "           1       0.98      0.96      0.97    258482\n",
            "\n",
            "    accuracy                           0.97    515668\n",
            "   macro avg       0.97      0.97      0.97    515668\n",
            "weighted avg       0.97      0.97      0.97    515668\n",
            "\n",
            "ROC AUC Score:  0.9961963224540418\n",
            "\n",
            "=== LightGBM ===\n",
            "[LightGBM] [Info] Number of positive: 1030687, number of negative: 1031983\n",
            "[LightGBM] [Info] Auto-choosing row-wise multi-threading, the overhead of testing was 0.025259 seconds.\n",
            "You can set `force_row_wise=true` to remove the overhead.\n",
            "And if memory is not enough, you can set `force_col_wise=true`.\n",
            "[LightGBM] [Info] Total Bins 1105\n",
            "[LightGBM] [Info] Number of data points in the train set: 2062670, number of used features: 9\n",
            "[LightGBM] [Info] [binary:BoostFromScore]: pavg=0.499686 -> initscore=-0.001257\n",
            "[LightGBM] [Info] Start training from score -0.001257\n",
            "[LightGBM] [Warning] No further splits with positive gain, best gain: -inf\n",
            "[LightGBM] [Warning] No further splits with positive gain, best gain: -inf\n",
            "[LightGBM] [Warning] No further splits with positive gain, best gain: -inf\n",
            "[LightGBM] [Warning] No further splits with positive gain, best gain: -inf\n",
            "[LightGBM] [Warning] No further splits with positive gain, best gain: -inf\n",
            "[LightGBM] [Warning] No further splits with positive gain, best gain: -inf\n",
            "[LightGBM] [Warning] No further splits with positive gain, best gain: -inf\n",
            "[LightGBM] [Warning] No further splits with positive gain, best gain: -inf\n",
            "[LightGBM] [Warning] No further splits with positive gain, best gain: -inf\n",
            "[LightGBM] [Warning] No further splits with positive gain, best gain: -inf\n",
            "[LightGBM] [Warning] No further splits with positive gain, best gain: -inf\n",
            "[LightGBM] [Warning] No further splits with positive gain, best gain: -inf\n",
            "[LightGBM] [Warning] No further splits with positive gain, best gain: -inf\n",
            "[LightGBM] [Warning] No further splits with positive gain, best gain: -inf\n",
            "[LightGBM] [Warning] No further splits with positive gain, best gain: -inf\n",
            "[LightGBM] [Warning] No further splits with positive gain, best gain: -inf\n",
            "[LightGBM] [Warning] No further splits with positive gain, best gain: -inf\n",
            "[LightGBM] [Warning] No further splits with positive gain, best gain: -inf\n",
            "[LightGBM] [Warning] No further splits with positive gain, best gain: -inf\n",
            "[LightGBM] [Warning] No further splits with positive gain, best gain: -inf\n",
            "[LightGBM] [Warning] No further splits with positive gain, best gain: -inf\n",
            "[LightGBM] [Warning] No further splits with positive gain, best gain: -inf\n",
            "[LightGBM] [Warning] No further splits with positive gain, best gain: -inf\n",
            "[LightGBM] [Warning] No further splits with positive gain, best gain: -inf\n",
            "[LightGBM] [Warning] No further splits with positive gain, best gain: -inf\n",
            "[LightGBM] [Warning] No further splits with positive gain, best gain: -inf\n",
            "[LightGBM] [Warning] No further splits with positive gain, best gain: -inf\n",
            "[LightGBM] [Warning] No further splits with positive gain, best gain: -inf\n",
            "[LightGBM] [Warning] No further splits with positive gain, best gain: -inf\n",
            "[LightGBM] [Warning] No further splits with positive gain, best gain: -inf\n",
            "[LightGBM] [Warning] No further splits with positive gain, best gain: -inf\n",
            "[LightGBM] [Warning] No further splits with positive gain, best gain: -inf\n",
            "[LightGBM] [Warning] No further splits with positive gain, best gain: -inf\n",
            "[LightGBM] [Warning] No further splits with positive gain, best gain: -inf\n",
            "[LightGBM] [Warning] No further splits with positive gain, best gain: -inf\n",
            "[LightGBM] [Warning] No further splits with positive gain, best gain: -inf\n",
            "[LightGBM] [Warning] No further splits with positive gain, best gain: -inf\n",
            "[LightGBM] [Warning] No further splits with positive gain, best gain: -inf\n",
            "[LightGBM] [Warning] No further splits with positive gain, best gain: -inf\n",
            "[LightGBM] [Warning] No further splits with positive gain, best gain: -inf\n",
            "[LightGBM] [Warning] No further splits with positive gain, best gain: -inf\n",
            "[LightGBM] [Warning] No further splits with positive gain, best gain: -inf\n",
            "[LightGBM] [Warning] No further splits with positive gain, best gain: -inf\n",
            "[LightGBM] [Warning] No further splits with positive gain, best gain: -inf\n",
            "[LightGBM] [Warning] No further splits with positive gain, best gain: -inf\n",
            "[LightGBM] [Warning] No further splits with positive gain, best gain: -inf\n",
            "[LightGBM] [Warning] No further splits with positive gain, best gain: -inf\n",
            "[LightGBM] [Warning] No further splits with positive gain, best gain: -inf\n",
            "[LightGBM] [Warning] No further splits with positive gain, best gain: -inf\n",
            "[LightGBM] [Warning] No further splits with positive gain, best gain: -inf\n",
            "[LightGBM] [Warning] No further splits with positive gain, best gain: -inf\n",
            "[LightGBM] [Warning] No further splits with positive gain, best gain: -inf\n",
            "[LightGBM] [Warning] No further splits with positive gain, best gain: -inf\n",
            "[LightGBM] [Warning] No further splits with positive gain, best gain: -inf\n",
            "[LightGBM] [Warning] No further splits with positive gain, best gain: -inf\n",
            "[LightGBM] [Warning] No further splits with positive gain, best gain: -inf\n",
            "[LightGBM] [Warning] No further splits with positive gain, best gain: -inf\n",
            "[LightGBM] [Warning] No further splits with positive gain, best gain: -inf\n",
            "[LightGBM] [Warning] No further splits with positive gain, best gain: -inf\n",
            "[LightGBM] [Warning] No further splits with positive gain, best gain: -inf\n",
            "[LightGBM] [Warning] No further splits with positive gain, best gain: -inf\n",
            "[LightGBM] [Warning] No further splits with positive gain, best gain: -inf\n",
            "[LightGBM] [Warning] No further splits with positive gain, best gain: -inf\n",
            "[LightGBM] [Warning] No further splits with positive gain, best gain: -inf\n",
            "[LightGBM] [Warning] No further splits with positive gain, best gain: -inf\n",
            "[LightGBM] [Warning] No further splits with positive gain, best gain: -inf\n",
            "[LightGBM] [Warning] No further splits with positive gain, best gain: -inf\n",
            "[LightGBM] [Warning] No further splits with positive gain, best gain: -inf\n",
            "[LightGBM] [Warning] No further splits with positive gain, best gain: -inf\n",
            "[LightGBM] [Warning] No further splits with positive gain, best gain: -inf\n",
            "[LightGBM] [Warning] No further splits with positive gain, best gain: -inf\n",
            "[LightGBM] [Warning] No further splits with positive gain, best gain: -inf\n",
            "[LightGBM] [Warning] No further splits with positive gain, best gain: -inf\n",
            "[LightGBM] [Warning] No further splits with positive gain, best gain: -inf\n",
            "[LightGBM] [Warning] No further splits with positive gain, best gain: -inf\n",
            "[LightGBM] [Warning] No further splits with positive gain, best gain: -inf\n",
            "[LightGBM] [Warning] No further splits with positive gain, best gain: -inf\n",
            "[LightGBM] [Warning] No further splits with positive gain, best gain: -inf\n",
            "[LightGBM] [Warning] No further splits with positive gain, best gain: -inf\n",
            "[LightGBM] [Warning] No further splits with positive gain, best gain: -inf\n",
            "[LightGBM] [Warning] No further splits with positive gain, best gain: -inf\n",
            "[LightGBM] [Warning] No further splits with positive gain, best gain: -inf\n",
            "[LightGBM] [Warning] No further splits with positive gain, best gain: -inf\n",
            "[LightGBM] [Warning] No further splits with positive gain, best gain: -inf\n",
            "[LightGBM] [Warning] No further splits with positive gain, best gain: -inf\n",
            "[LightGBM] [Warning] No further splits with positive gain, best gain: -inf\n",
            "[LightGBM] [Warning] No further splits with positive gain, best gain: -inf\n",
            "[LightGBM] [Warning] No further splits with positive gain, best gain: -inf\n",
            "[LightGBM] [Warning] No further splits with positive gain, best gain: -inf\n",
            "[LightGBM] [Warning] No further splits with positive gain, best gain: -inf\n",
            "[LightGBM] [Warning] No further splits with positive gain, best gain: -inf\n",
            "[LightGBM] [Warning] No further splits with positive gain, best gain: -inf\n",
            "[LightGBM] [Warning] No further splits with positive gain, best gain: -inf\n",
            "[LightGBM] [Warning] No further splits with positive gain, best gain: -inf\n",
            "[LightGBM] [Warning] No further splits with positive gain, best gain: -inf\n",
            "[LightGBM] [Warning] No further splits with positive gain, best gain: -inf\n",
            "[LightGBM] [Warning] No further splits with positive gain, best gain: -inf\n",
            "[LightGBM] [Warning] No further splits with positive gain, best gain: -inf\n",
            "[LightGBM] [Warning] No further splits with positive gain, best gain: -inf\n",
            "[LightGBM] [Warning] No further splits with positive gain, best gain: -inf\n",
            "[LightGBM] [Warning] No further splits with positive gain, best gain: -inf\n",
            "[LightGBM] [Warning] No further splits with positive gain, best gain: -inf\n",
            "[LightGBM] [Warning] No further splits with positive gain, best gain: -inf\n",
            "[LightGBM] [Warning] No further splits with positive gain, best gain: -inf\n",
            "[LightGBM] [Warning] No further splits with positive gain, best gain: -inf\n",
            "[LightGBM] [Warning] No further splits with positive gain, best gain: -inf\n",
            "[LightGBM] [Warning] No further splits with positive gain, best gain: -inf\n",
            "[LightGBM] [Warning] No further splits with positive gain, best gain: -inf\n",
            "[LightGBM] [Warning] No further splits with positive gain, best gain: -inf\n",
            "[LightGBM] [Warning] No further splits with positive gain, best gain: -inf\n",
            "[LightGBM] [Warning] No further splits with positive gain, best gain: -inf\n",
            "[LightGBM] [Warning] No further splits with positive gain, best gain: -inf\n",
            "[LightGBM] [Warning] No further splits with positive gain, best gain: -inf\n",
            "[LightGBM] [Warning] No further splits with positive gain, best gain: -inf\n",
            "[LightGBM] [Warning] No further splits with positive gain, best gain: -inf\n",
            "[LightGBM] [Warning] No further splits with positive gain, best gain: -inf\n",
            "[LightGBM] [Warning] No further splits with positive gain, best gain: -inf\n",
            "[LightGBM] [Warning] No further splits with positive gain, best gain: -inf\n",
            "[LightGBM] [Warning] No further splits with positive gain, best gain: -inf\n",
            "[LightGBM] [Warning] No further splits with positive gain, best gain: -inf\n",
            "[LightGBM] [Warning] No further splits with positive gain, best gain: -inf\n",
            "[LightGBM] [Warning] No further splits with positive gain, best gain: -inf\n",
            "[LightGBM] [Warning] No further splits with positive gain, best gain: -inf\n",
            "[LightGBM] [Warning] No further splits with positive gain, best gain: -inf\n",
            "[LightGBM] [Warning] No further splits with positive gain, best gain: -inf\n",
            "[LightGBM] [Warning] No further splits with positive gain, best gain: -inf\n",
            "[LightGBM] [Warning] No further splits with positive gain, best gain: -inf\n",
            "[LightGBM] [Warning] No further splits with positive gain, best gain: -inf\n",
            "[LightGBM] [Warning] No further splits with positive gain, best gain: -inf\n",
            "[LightGBM] [Warning] No further splits with positive gain, best gain: -inf\n",
            "[LightGBM] [Warning] No further splits with positive gain, best gain: -inf\n",
            "[LightGBM] [Warning] No further splits with positive gain, best gain: -inf\n",
            "[LightGBM] [Warning] No further splits with positive gain, best gain: -inf\n",
            "[LightGBM] [Warning] No further splits with positive gain, best gain: -inf\n",
            "[LightGBM] [Warning] No further splits with positive gain, best gain: -inf\n",
            "[LightGBM] [Warning] No further splits with positive gain, best gain: -inf\n",
            "[LightGBM] [Warning] No further splits with positive gain, best gain: -inf\n",
            "[LightGBM] [Warning] No further splits with positive gain, best gain: -inf\n",
            "[LightGBM] [Warning] No further splits with positive gain, best gain: -inf\n",
            "[LightGBM] [Warning] No further splits with positive gain, best gain: -inf\n",
            "[LightGBM] [Warning] No further splits with positive gain, best gain: -inf\n",
            "[LightGBM] [Warning] No further splits with positive gain, best gain: -inf\n",
            "[LightGBM] [Warning] No further splits with positive gain, best gain: -inf\n",
            "[LightGBM] [Warning] No further splits with positive gain, best gain: -inf\n",
            "[LightGBM] [Warning] No further splits with positive gain, best gain: -inf\n",
            "[LightGBM] [Warning] No further splits with positive gain, best gain: -inf\n",
            "[LightGBM] [Warning] No further splits with positive gain, best gain: -inf\n",
            "[LightGBM] [Warning] No further splits with positive gain, best gain: -inf\n",
            "[LightGBM] [Warning] No further splits with positive gain, best gain: -inf\n",
            "[LightGBM] [Warning] No further splits with positive gain, best gain: -inf\n",
            "[LightGBM] [Warning] No further splits with positive gain, best gain: -inf\n",
            "[LightGBM] [Warning] No further splits with positive gain, best gain: -inf\n",
            "[LightGBM] [Warning] No further splits with positive gain, best gain: -inf\n",
            "[LightGBM] [Warning] No further splits with positive gain, best gain: -inf\n",
            "[LightGBM] [Warning] No further splits with positive gain, best gain: -inf\n",
            "[LightGBM] [Warning] No further splits with positive gain, best gain: -inf\n",
            "[LightGBM] [Warning] No further splits with positive gain, best gain: -inf\n",
            "[LightGBM] [Warning] No further splits with positive gain, best gain: -inf\n",
            "[LightGBM] [Warning] No further splits with positive gain, best gain: -inf\n",
            "[LightGBM] [Warning] No further splits with positive gain, best gain: -inf\n",
            "[LightGBM] [Warning] No further splits with positive gain, best gain: -inf\n",
            "[LightGBM] [Warning] No further splits with positive gain, best gain: -inf\n",
            "[LightGBM] [Warning] No further splits with positive gain, best gain: -inf\n",
            "[LightGBM] [Warning] No further splits with positive gain, best gain: -inf\n",
            "[LightGBM] [Warning] No further splits with positive gain, best gain: -inf\n",
            "[LightGBM] [Warning] No further splits with positive gain, best gain: -inf\n",
            "[LightGBM] [Warning] No further splits with positive gain, best gain: -inf\n",
            "[LightGBM] [Warning] No further splits with positive gain, best gain: -inf\n",
            "[LightGBM] [Warning] No further splits with positive gain, best gain: -inf\n",
            "[LightGBM] [Warning] No further splits with positive gain, best gain: -inf\n",
            "[LightGBM] [Warning] No further splits with positive gain, best gain: -inf\n",
            "[LightGBM] [Warning] No further splits with positive gain, best gain: -inf\n",
            "[LightGBM] [Warning] No further splits with positive gain, best gain: -inf\n",
            "[LightGBM] [Warning] No further splits with positive gain, best gain: -inf\n",
            "[LightGBM] [Warning] No further splits with positive gain, best gain: -inf\n",
            "[LightGBM] [Warning] No further splits with positive gain, best gain: -inf\n",
            "[LightGBM] [Warning] No further splits with positive gain, best gain: -inf\n",
            "[LightGBM] [Warning] No further splits with positive gain, best gain: -inf\n",
            "[LightGBM] [Warning] No further splits with positive gain, best gain: -inf\n",
            "[LightGBM] [Warning] No further splits with positive gain, best gain: -inf\n",
            "[LightGBM] [Warning] No further splits with positive gain, best gain: -inf\n",
            "[LightGBM] [Warning] No further splits with positive gain, best gain: -inf\n",
            "[LightGBM] [Warning] No further splits with positive gain, best gain: -inf\n",
            "[LightGBM] [Warning] No further splits with positive gain, best gain: -inf\n",
            "[LightGBM] [Warning] No further splits with positive gain, best gain: -inf\n",
            "[LightGBM] [Warning] No further splits with positive gain, best gain: -inf\n",
            "[LightGBM] [Warning] No further splits with positive gain, best gain: -inf\n",
            "[LightGBM] [Warning] No further splits with positive gain, best gain: -inf\n",
            "[LightGBM] [Warning] No further splits with positive gain, best gain: -inf\n",
            "[LightGBM] [Warning] No further splits with positive gain, best gain: -inf\n",
            "[LightGBM] [Warning] No further splits with positive gain, best gain: -inf\n",
            "[LightGBM] [Warning] No further splits with positive gain, best gain: -inf\n",
            "[LightGBM] [Warning] No further splits with positive gain, best gain: -inf\n",
            "[LightGBM] [Warning] No further splits with positive gain, best gain: -inf\n",
            "[LightGBM] [Warning] No further splits with positive gain, best gain: -inf\n",
            "[LightGBM] [Warning] No further splits with positive gain, best gain: -inf\n",
            "[LightGBM] [Warning] No further splits with positive gain, best gain: -inf\n",
            "[LightGBM] [Warning] No further splits with positive gain, best gain: -inf\n",
            "[LightGBM] [Warning] No further splits with positive gain, best gain: -inf\n",
            "[LightGBM] [Warning] No further splits with positive gain, best gain: -inf\n",
            "Classification Report:\n",
            "               precision    recall  f1-score   support\n",
            "\n",
            "           0       0.82      0.95      0.88    257186\n",
            "           1       0.95      0.79      0.86    258482\n",
            "\n",
            "    accuracy                           0.87    515668\n",
            "   macro avg       0.88      0.87      0.87    515668\n",
            "weighted avg       0.88      0.87      0.87    515668\n",
            "\n",
            "ROC AUC Score:  0.9480609184745221\n"
          ]
        }
      ],
      "source": [
        "for name, model in models.items():\n",
        "    print(f\"\\n=== {name} ===\")\n",
        "    model.fit(x_train, y_train)\n",
        "    y_pred = model.predict(x_test)\n",
        "    y_proba = model.predict_proba(x_test)[:, 1]\n",
        "    print(\"Classification Report:\\n\", classification_report(y_test, y_pred))\n",
        "    print(\"ROC AUC Score: \", roc_auc_score(y_test, y_proba))"
      ]
    },
    {
      "cell_type": "code",
      "execution_count": 13,
      "id": "0a5ff4e6-5d49-4e09-98af-0ea1097d7ab2",
      "metadata": {
        "trusted": true
      },
      "outputs": [
        {
          "data": {
            "image/png": "[encoded data removed]",
            "text/plain": [
              "<Figure size 600x600 with 1 Axes>"
            ]
          },
          "metadata": {},
          "output_type": "display_data"
        }
      ],
      "source": [
        "fpr, tpr, _ = roc_curve(y_test, y_proba)\n",
        "plt.figure(figsize=(6,6))\n",
        "plt.plot(fpr, tpr, label=f'{name} (AUC = {roc_auc_score(y_test, y_proba):.2f})')\n",
        "plt.plot([0, 1], [0, 1], linestyle='--', color='gray')\n",
        "plt.xlabel(\"False Positive Rate\")\n",
        "plt.ylabel(\"True Positive Rate\")\n",
        "plt.title(f\"ROC Curve - {name}\")\n",
        "plt.legend(loc=\"lower right\")\n",
        "plt.show()"
      ]
    },
    {
      "cell_type": "code",
      "execution_count": 14,
      "id": "3d850570-ea94-4009-899b-5eeaa99464d7",
      "metadata": {
        "trusted": true
      },
      "outputs": [
        {
          "data": {
            "text/plain": [
              "['label_encoders.jb']"
            ]
          },
          "execution_count": 14,
          "metadata": {},
          "output_type": "execute_result"
        }
      ],
      "source": [
        "joblib.dump(models[\"LightGBM\"], \"fraud_detection_model.jb\")\n",
        "joblib.dump(encoders, \"label_encoders.jb\")"
      ]
    },
    {
      "cell_type": "code",
      "execution_count": 15,
      "id": "3325321b",
      "metadata": {},
      "outputs": [
        {
          "data": {
            "application/vnd.microsoft.datawrangler.viewer.v0+json": {
              "columns": [
                {
                  "name": "index",
                  "rawType": "int64",
                  "type": "integer"
                },
                {
                  "name": "cc_num",
                  "rawType": "int64",
                  "type": "integer"
                },
                {
                  "name": "merchant",
                  "rawType": "int64",
                  "type": "integer"
                },
                {
                  "name": "category",
                  "rawType": "int64",
                  "type": "integer"
                },
                {
                  "name": "amt",
                  "rawType": "float64",
                  "type": "float"
                },
                {
                  "name": "gender",
                  "rawType": "int64",
                  "type": "integer"
                },
                {
                  "name": "lat",
                  "rawType": "float64",
                  "type": "float"
                },
                {
                  "name": "long",
                  "rawType": "float64",
                  "type": "float"
                },
                {
                  "name": "city_pop",
                  "rawType": "int64",
                  "type": "integer"
                },
                {
                  "name": "unix_time",
                  "rawType": "int64",
                  "type": "integer"
                },
                {
                  "name": "merch_lat",
                  "rawType": "float64",
                  "type": "float"
                },
                {
                  "name": "merch_long",
                  "rawType": "float64",
                  "type": "float"
                },
                {
                  "name": "class",
                  "rawType": "int64",
                  "type": "integer"
                },
                {
                  "name": "hour",
                  "rawType": "int32",
                  "type": "integer"
                },
                {
                  "name": "day",
                  "rawType": "int32",
                  "type": "integer"
                },
                {
                  "name": "month",
                  "rawType": "int32",
                  "type": "integer"
                },
                {
                  "name": "distance",
                  "rawType": "float64",
                  "type": "float"
                }
              ],
              "conversionMethod": "pd.DataFrame",
              "ref": "986a68ae-89ec-4ece-b85c-450a02bca4f7",
              "rows": [
                [
                  "2449",
                  "4613314721966",
                  "543",
                  "4",
                  "281.06",
                  "1",
                  "35.9946",
                  "-81.7266",
                  "885",
                  "1325466397",
                  "36.430124",
                  "-81.17948299999999",
                  "1",
                  "1",
                  "2",
                  "1",
                  "68.96272634043888"
                ],
                [
                  "2472",
                  "340187018810220",
                  "285",
                  "2",
                  "11.52",
                  "0",
                  "29.44",
                  "-98.459",
                  "1595797",
                  "1325468849",
                  "29.819364",
                  "-99.142791",
                  "1",
                  "1",
                  "2",
                  "1",
                  "78.44322885940646"
                ],
                [
                  "2523",
                  "340187018810220",
                  "196",
                  "4",
                  "276.31",
                  "0",
                  "29.44",
                  "-98.459",
                  "1595797",
                  "1325473523",
                  "29.273085",
                  "-98.83636",
                  "1",
                  "3",
                  "2",
                  "1",
                  "41.04842466050765"
                ],
                [
                  "2546",
                  "4613314721966",
                  "162",
                  "2",
                  "7.03",
                  "1",
                  "35.9946",
                  "-81.7266",
                  "885",
                  "1325475483",
                  "35.909292",
                  "-82.09101",
                  "1",
                  "3",
                  "2",
                  "1",
                  "34.21196342871065"
                ],
                [
                  "2553",
                  "340187018810220",
                  "328",
                  "4",
                  "275.73",
                  "0",
                  "29.44",
                  "-98.459",
                  "1595797",
                  "1325476547",
                  "29.786426",
                  "-98.68341",
                  "1",
                  "3",
                  "2",
                  "1",
                  "44.1248541160399"
                ]
              ],
              "shape": {
                "columns": 16,
                "rows": 5
              }
            },
            "text/html": [
              "<div>\n",
              "<style scoped>\n",
              "    .dataframe tbody tr th:only-of-type {\n",
              "        vertical-align: middle;\n",
              "    }\n",
              "\n",
              "    .dataframe tbody tr th {\n",
              "        vertical-align: top;\n",
              "    }\n",
              "\n",
              "    .dataframe thead th {\n",
              "        text-align: right;\n",
              "    }\n",
              "</style>\n",
              "<table border=\"1\" class=\"dataframe\">\n",
              "  <thead>\n",
              "    <tr style=\"text-align: right;\">\n",
              "      <th></th>\n",
              "      <th>cc_num</th>\n",
              "      <th>merchant</th>\n",
              "      <th>category</th>\n",
              "      <th>amt</th>\n",
              "      <th>gender</th>\n",
              "      <th>lat</th>\n",
              "      <th>long</th>\n",
              "      <th>city_pop</th>\n",
              "      <th>unix_time</th>\n",
              "      <th>merch_lat</th>\n",
              "      <th>merch_long</th>\n",
              "      <th>class</th>\n",
              "      <th>hour</th>\n",
              "      <th>day</th>\n",
              "      <th>month</th>\n",
              "      <th>distance</th>\n",
              "    </tr>\n",
              "  </thead>\n",
              "  <tbody>\n",
              "    <tr>\n",
              "      <th>2449</th>\n",
              "      <td>4613314721966</td>\n",
              "      <td>543</td>\n",
              "      <td>4</td>\n",
              "      <td>281.06</td>\n",
              "      <td>1</td>\n",
              "      <td>35.9946</td>\n",
              "      <td>-81.7266</td>\n",
              "      <td>885</td>\n",
              "      <td>1325466397</td>\n",
              "      <td>36.430124</td>\n",
              "      <td>-81.179483</td>\n",
              "      <td>1</td>\n",
              "      <td>1</td>\n",
              "      <td>2</td>\n",
              "      <td>1</td>\n",
              "      <td>68.962726</td>\n",
              "    </tr>\n",
              "    <tr>\n",
              "      <th>2472</th>\n",
              "      <td>340187018810220</td>\n",
              "      <td>285</td>\n",
              "      <td>2</td>\n",
              "      <td>11.52</td>\n",
              "      <td>0</td>\n",
              "      <td>29.4400</td>\n",
              "      <td>-98.4590</td>\n",
              "      <td>1595797</td>\n",
              "      <td>1325468849</td>\n",
              "      <td>29.819364</td>\n",
              "      <td>-99.142791</td>\n",
              "      <td>1</td>\n",
              "      <td>1</td>\n",
              "      <td>2</td>\n",
              "      <td>1</td>\n",
              "      <td>78.443229</td>\n",
              "    </tr>\n",
              "    <tr>\n",
              "      <th>2523</th>\n",
              "      <td>340187018810220</td>\n",
              "      <td>196</td>\n",
              "      <td>4</td>\n",
              "      <td>276.31</td>\n",
              "      <td>0</td>\n",
              "      <td>29.4400</td>\n",
              "      <td>-98.4590</td>\n",
              "      <td>1595797</td>\n",
              "      <td>1325473523</td>\n",
              "      <td>29.273085</td>\n",
              "      <td>-98.836360</td>\n",
              "      <td>1</td>\n",
              "      <td>3</td>\n",
              "      <td>2</td>\n",
              "      <td>1</td>\n",
              "      <td>41.048425</td>\n",
              "    </tr>\n",
              "    <tr>\n",
              "      <th>2546</th>\n",
              "      <td>4613314721966</td>\n",
              "      <td>162</td>\n",
              "      <td>2</td>\n",
              "      <td>7.03</td>\n",
              "      <td>1</td>\n",
              "      <td>35.9946</td>\n",
              "      <td>-81.7266</td>\n",
              "      <td>885</td>\n",
              "      <td>1325475483</td>\n",
              "      <td>35.909292</td>\n",
              "      <td>-82.091010</td>\n",
              "      <td>1</td>\n",
              "      <td>3</td>\n",
              "      <td>2</td>\n",
              "      <td>1</td>\n",
              "      <td>34.211963</td>\n",
              "    </tr>\n",
              "    <tr>\n",
              "      <th>2553</th>\n",
              "      <td>340187018810220</td>\n",
              "      <td>328</td>\n",
              "      <td>4</td>\n",
              "      <td>275.73</td>\n",
              "      <td>0</td>\n",
              "      <td>29.4400</td>\n",
              "      <td>-98.4590</td>\n",
              "      <td>1595797</td>\n",
              "      <td>1325476547</td>\n",
              "      <td>29.786426</td>\n",
              "      <td>-98.683410</td>\n",
              "      <td>1</td>\n",
              "      <td>3</td>\n",
              "      <td>2</td>\n",
              "      <td>1</td>\n",
              "      <td>44.124854</td>\n",
              "    </tr>\n",
              "  </tbody>\n",
              "</table>\n",
              "</div>"
            ],
            "text/plain": [
              "               cc_num  merchant  category     amt  gender      lat     long  \\\n",
              "2449    4613314721966       543         4  281.06       1  35.9946 -81.7266   \n",
              "2472  340187018810220       285         2   11.52       0  29.4400 -98.4590   \n",
              "2523  340187018810220       196         4  276.31       0  29.4400 -98.4590   \n",
              "2546    4613314721966       162         2    7.03       1  35.9946 -81.7266   \n",
              "2553  340187018810220       328         4  275.73       0  29.4400 -98.4590   \n",
              "\n",
              "      city_pop   unix_time  merch_lat  merch_long  class  hour  day  month  \\\n",
              "2449       885  1325466397  36.430124  -81.179483      1     1    2      1   \n",
              "2472   1595797  1325468849  29.819364  -99.142791      1     1    2      1   \n",
              "2523   1595797  1325473523  29.273085  -98.836360      1     3    2      1   \n",
              "2546       885  1325475483  35.909292  -82.091010      1     3    2      1   \n",
              "2553   1595797  1325476547  29.786426  -98.683410      1     3    2      1   \n",
              "\n",
              "       distance  \n",
              "2449  68.962726  \n",
              "2472  78.443229  \n",
              "2523  41.048425  \n",
              "2546  34.211963  \n",
              "2553  44.124854  "
            ]
          },
          "execution_count": 15,
          "metadata": {},
          "output_type": "execute_result"
        }
      ],
      "source": [
        "df[df['class']==1].head()"
      ]
    }
  ],
  "metadata": {
    "kernelspec": {
      "display_name": "Python 3",
      "language": "python",
      "name": "python3"
    },
    "language_info": {
      "codemirror_mode": {
        "name": "ipython",
        "version": 3
      },
      "file_extension": ".py",
      "mimetype": "text/x-python",
      "name": "python",
      "nbconvert_exporter": "python",
      "pygments_lexer": "ipython3",
      "version": "3.13.2"
    }
  },
  "nbformat": 4,
  "nbformat_minor": 5
}
